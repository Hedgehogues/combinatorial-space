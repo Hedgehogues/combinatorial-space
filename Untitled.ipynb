{
 "cells": [
  {
   "cell_type": "code",
   "execution_count": 1,
   "metadata": {
    "collapsed": true
   },
   "outputs": [],
   "source": [
    "from tqdm import tqdm\n",
    "import pandas as pd\n",
    "import cv2 \n",
    "import matplotlib.pyplot as plt\n",
    "import matplotlib.image as mpimg\n",
    "import numpy as np\n",
    "import seaborn as sns\n",
    "from sklearn.neural_network import MLPRegressor, MLPClassifier\n",
    "from sklearn.metrics import mean_squared_error\n",
    "from sklearn.preprocessing import MinMaxScaler\n",
    "import pickle as pkl\n",
    "\n",
    "np.warnings.filterwarnings('ignore')\n",
    "\n",
    "%matplotlib inline"
   ]
  },
  {
   "cell_type": "code",
   "execution_count": 80,
   "metadata": {
    "collapsed": true
   },
   "outputs": [],
   "source": [
    "def convert(imgf, labelf, outf, n, size):\n",
    "    f = open(imgf, \"rb\")\n",
    "    o = open(outf, \"w\")\n",
    "    l = open(labelf, \"rb\")\n",
    "\n",
    "    f.read(16)\n",
    "    l.read(8)\n",
    "    images = []\n",
    "\n",
    "    for i in tqdm(range(n), desc=outf):\n",
    "        image = [ord(l.read(1))]\n",
    "        for j in range(size[0]*size[1]):\n",
    "            image.append(ord(f.read(1)))\n",
    "        images.append(image)\n",
    "\n",
    "    for image in images:\n",
    "        o.write(\",\".join(str(pix) for pix in image)+\"\\n\")\n",
    "    f.close()\n",
    "    o.close()\n",
    "    l.close()\n",
    "    \n",
    "def show_image(image, label, ax):\n",
    "    ax.imshow(image, cmap='gray');\n",
    "    ax.title('Цифра:'+str(label))\n",
    "    ax.axis('off');\n",
    "    \n",
    "def show_image_data_frame(df, index, ax):\n",
    "    ax.imshow(get_image(df, index)[1], cmap='gray');\n",
    "    ax.title('Цифра:'+str(df.loc[index, 0]))\n",
    "    ax.axis('off');\n",
    "    \n",
    "def get_image(df, index):\n",
    "    return df.loc[index, 0], df.loc[index, 1:].values.reshape((28, 28)).astype(np.uint8)\n",
    "\n",
    "def get_codes(image, count_directs=8, width_angle=np.pi/2, strength_threshould=0):\n",
    "    sobel_x = cv2.Sobel(image,cv2.CV_32F,1,0,ksize=1)\n",
    "    sobel_y = cv2.Sobel(image,cv2.CV_32F,0,1,ksize=1)\n",
    "    \n",
    "    start_angle = -np.pi/2\n",
    "    \n",
    "    residual_angle = np.pi - width_angle\n",
    "    step_angle = residual_angle / (count_directs-1)\n",
    "    \n",
    "    gamma_down = np.arange(start_angle, start_angle+width_angle+step_angle, step_angle)\n",
    "    gamma_up = gamma_down+width_angle\n",
    "    \n",
    "    angle = np.arctan(sobel_y / sobel_x)\n",
    "    strength = np.sqrt(sobel_y** 2 + sobel_x ** 2)\n",
    "    \n",
    "    return np.array([\n",
    "        np.uint((gamma_down[i] <= angle) & (angle <= gamma_up[i]) & (strength >= strength_threshould))\n",
    "        for i in range(0, count_directs)\n",
    "    ])\n",
    "\n",
    "def get_codes_data_frame(image, count_directs=8, width_angle=np.pi/2, strength_threshould=0):\n",
    "    sobel_x = cv2.Sobel(image,cv2.CV_32F,1,0,ksize=1)\n",
    "    sobel_y = cv2.Sobel(image,cv2.CV_32F,0,1,ksize=1)\n",
    "    \n",
    "    start_angle = -np.pi/2\n",
    "    \n",
    "    residual_angle = np.pi - width_angle\n",
    "    step_angle = residual_angle / (count_directs-1)\n",
    "    \n",
    "    gamma_down = np.arange(start_angle, start_angle+width_angle+step_angle, step_angle)\n",
    "    gamma_up = gamma_down+width_angle\n",
    "    \n",
    "    angle = np.arctan(sobel_y / sobel_x)\n",
    "    strength = np.sqrt(sobel_y** 2 + sobel_x ** 2)\n",
    "    \n",
    "    return np.array([\n",
    "        np.uint((gamma_down[i] <= angle) & (angle <= gamma_up[i]) & (strength >= strength_threshould))\n",
    "        for i in range(0, count_directs)\n",
    "    ])\n",
    "\n",
    "def resize_row_data_frame(row, input_size=(32, 32), output_size=(28, 28)):\n",
    "    return cv2.resize(row.reshape(input_size).astype(np.uint8), output_size).ravel()\n",
    "\n",
    "def rotate_image(image, alpha=0, scale=1, size=(28, 28)):\n",
    "    rows, cols = image.shape\n",
    "    M = cv2.getRotationMatrix2D((cols/2, rows/2), alpha, scale)\n",
    "    return cv2.warpAffine(image, M, (cols, rows))\n",
    "    \n",
    "def rotate_row_data_frame(row, alpha=0, scale=1, size=(28, 28)):\n",
    "    label, image = row[0], row[1:].values.reshape((28, 28)).astype(np.uint8)\n",
    "    return np.hstack([[label], rotate_image(image, alpha, scale).ravel()])\n",
    "\n",
    "def rotate_image_data_frame(df, index, alpha=0, scale=1, size=(28, 28)):\n",
    "    label, image = get_image(df, index)\n",
    "    return label, rotate_image(image, alpha, scale) "
   ]
  },
  {
   "cell_type": "code",
   "execution_count": 6,
   "metadata": {
    "collapsed": true
   },
   "outputs": [],
   "source": [
    "path_mnist = 'data/MNIST/'\n",
    "conf_test_mnist = {\n",
    "    'imgf': path_mnist+'t10k-images.idx3-ubyte',\n",
    "    'labelf': path_mnist+'t10k-labels.idx1-ubyte',\n",
    "    'n': 10000,\n",
    "    'outf': path_mnist+'mnist_test.csv',\n",
    "    'size': (28, 28)\n",
    "}\n",
    "conf_train_mnist = {\n",
    "    'imgf': path_mnist+'train-images.idx3-ubyte',\n",
    "    'labelf': path_mnist+'train-labels.idx1-ubyte',\n",
    "    'n': 60000,\n",
    "    'outf': path_mnist+'mnist_train.csv',\n",
    "    'size': (28, 28)\n",
    "}"
   ]
  },
  {
   "cell_type": "code",
   "execution_count": 5,
   "metadata": {},
   "outputs": [
    {
     "name": "stderr",
     "output_type": "stream",
     "text": [
      "data/MNIST/mnist_test.csv: 100%|██████████| 10000/10000 [00:02<00:00, 3791.92it/s]\n",
      "data/MNIST/mnist_train.csv: 100%|██████████| 60000/60000 [00:16<00:00, 3739.83it/s]\n"
     ]
    }
   ],
   "source": [
    "convert(**conf_test_mnist)\n",
    "convert(**conf_train_mnist)"
   ]
  },
  {
   "cell_type": "code",
   "execution_count": 7,
   "metadata": {},
   "outputs": [],
   "source": [
    "df = pd.read_csv(conf_train_mnist['outf'], header=None)"
   ]
  },
  {
   "cell_type": "code",
   "execution_count": 8,
   "metadata": {},
   "outputs": [
    {
     "data": {
      "text/html": [
       "<div>\n",
       "<style>\n",
       "    .dataframe thead tr:only-child th {\n",
       "        text-align: right;\n",
       "    }\n",
       "\n",
       "    .dataframe thead th {\n",
       "        text-align: left;\n",
       "    }\n",
       "\n",
       "    .dataframe tbody tr th {\n",
       "        vertical-align: top;\n",
       "    }\n",
       "</style>\n",
       "<table border=\"1\" class=\"dataframe\">\n",
       "  <thead>\n",
       "    <tr style=\"text-align: right;\">\n",
       "      <th></th>\n",
       "      <th>0</th>\n",
       "      <th>1</th>\n",
       "      <th>2</th>\n",
       "      <th>3</th>\n",
       "      <th>4</th>\n",
       "      <th>5</th>\n",
       "      <th>6</th>\n",
       "      <th>7</th>\n",
       "      <th>8</th>\n",
       "      <th>9</th>\n",
       "      <th>...</th>\n",
       "      <th>775</th>\n",
       "      <th>776</th>\n",
       "      <th>777</th>\n",
       "      <th>778</th>\n",
       "      <th>779</th>\n",
       "      <th>780</th>\n",
       "      <th>781</th>\n",
       "      <th>782</th>\n",
       "      <th>783</th>\n",
       "      <th>784</th>\n",
       "    </tr>\n",
       "  </thead>\n",
       "  <tbody>\n",
       "    <tr>\n",
       "      <th>0</th>\n",
       "      <td>5</td>\n",
       "      <td>0</td>\n",
       "      <td>0</td>\n",
       "      <td>0</td>\n",
       "      <td>0</td>\n",
       "      <td>0</td>\n",
       "      <td>0</td>\n",
       "      <td>0</td>\n",
       "      <td>0</td>\n",
       "      <td>0</td>\n",
       "      <td>...</td>\n",
       "      <td>0</td>\n",
       "      <td>0</td>\n",
       "      <td>0</td>\n",
       "      <td>0</td>\n",
       "      <td>0</td>\n",
       "      <td>0</td>\n",
       "      <td>0</td>\n",
       "      <td>0</td>\n",
       "      <td>0</td>\n",
       "      <td>0</td>\n",
       "    </tr>\n",
       "    <tr>\n",
       "      <th>1</th>\n",
       "      <td>0</td>\n",
       "      <td>0</td>\n",
       "      <td>0</td>\n",
       "      <td>0</td>\n",
       "      <td>0</td>\n",
       "      <td>0</td>\n",
       "      <td>0</td>\n",
       "      <td>0</td>\n",
       "      <td>0</td>\n",
       "      <td>0</td>\n",
       "      <td>...</td>\n",
       "      <td>0</td>\n",
       "      <td>0</td>\n",
       "      <td>0</td>\n",
       "      <td>0</td>\n",
       "      <td>0</td>\n",
       "      <td>0</td>\n",
       "      <td>0</td>\n",
       "      <td>0</td>\n",
       "      <td>0</td>\n",
       "      <td>0</td>\n",
       "    </tr>\n",
       "    <tr>\n",
       "      <th>2</th>\n",
       "      <td>4</td>\n",
       "      <td>0</td>\n",
       "      <td>0</td>\n",
       "      <td>0</td>\n",
       "      <td>0</td>\n",
       "      <td>0</td>\n",
       "      <td>0</td>\n",
       "      <td>0</td>\n",
       "      <td>0</td>\n",
       "      <td>0</td>\n",
       "      <td>...</td>\n",
       "      <td>0</td>\n",
       "      <td>0</td>\n",
       "      <td>0</td>\n",
       "      <td>0</td>\n",
       "      <td>0</td>\n",
       "      <td>0</td>\n",
       "      <td>0</td>\n",
       "      <td>0</td>\n",
       "      <td>0</td>\n",
       "      <td>0</td>\n",
       "    </tr>\n",
       "    <tr>\n",
       "      <th>3</th>\n",
       "      <td>1</td>\n",
       "      <td>0</td>\n",
       "      <td>0</td>\n",
       "      <td>0</td>\n",
       "      <td>0</td>\n",
       "      <td>0</td>\n",
       "      <td>0</td>\n",
       "      <td>0</td>\n",
       "      <td>0</td>\n",
       "      <td>0</td>\n",
       "      <td>...</td>\n",
       "      <td>0</td>\n",
       "      <td>0</td>\n",
       "      <td>0</td>\n",
       "      <td>0</td>\n",
       "      <td>0</td>\n",
       "      <td>0</td>\n",
       "      <td>0</td>\n",
       "      <td>0</td>\n",
       "      <td>0</td>\n",
       "      <td>0</td>\n",
       "    </tr>\n",
       "    <tr>\n",
       "      <th>4</th>\n",
       "      <td>9</td>\n",
       "      <td>0</td>\n",
       "      <td>0</td>\n",
       "      <td>0</td>\n",
       "      <td>0</td>\n",
       "      <td>0</td>\n",
       "      <td>0</td>\n",
       "      <td>0</td>\n",
       "      <td>0</td>\n",
       "      <td>0</td>\n",
       "      <td>...</td>\n",
       "      <td>0</td>\n",
       "      <td>0</td>\n",
       "      <td>0</td>\n",
       "      <td>0</td>\n",
       "      <td>0</td>\n",
       "      <td>0</td>\n",
       "      <td>0</td>\n",
       "      <td>0</td>\n",
       "      <td>0</td>\n",
       "      <td>0</td>\n",
       "    </tr>\n",
       "  </tbody>\n",
       "</table>\n",
       "<p>5 rows × 785 columns</p>\n",
       "</div>"
      ],
      "text/plain": [
       "   0    1    2    3    4    5    6    7    8    9   ...   775  776  777  778  \\\n",
       "0    5    0    0    0    0    0    0    0    0    0 ...     0    0    0    0   \n",
       "1    0    0    0    0    0    0    0    0    0    0 ...     0    0    0    0   \n",
       "2    4    0    0    0    0    0    0    0    0    0 ...     0    0    0    0   \n",
       "3    1    0    0    0    0    0    0    0    0    0 ...     0    0    0    0   \n",
       "4    9    0    0    0    0    0    0    0    0    0 ...     0    0    0    0   \n",
       "\n",
       "   779  780  781  782  783  784  \n",
       "0    0    0    0    0    0    0  \n",
       "1    0    0    0    0    0    0  \n",
       "2    0    0    0    0    0    0  \n",
       "3    0    0    0    0    0    0  \n",
       "4    0    0    0    0    0    0  \n",
       "\n",
       "[5 rows x 785 columns]"
      ]
     },
     "execution_count": 8,
     "metadata": {},
     "output_type": "execute_result"
    }
   ],
   "source": [
    "df.head()"
   ]
  },
  {
   "cell_type": "code",
   "execution_count": 9,
   "metadata": {
    "collapsed": true
   },
   "outputs": [],
   "source": [
    "image_number = 2"
   ]
  },
  {
   "cell_type": "code",
   "execution_count": 10,
   "metadata": {},
   "outputs": [
    {
     "data": {
      "image/png": "[encoded data removed]",
      "text/plain": [
       "<matplotlib.figure.Figure at 0x7f5900a21da0>"
      ]
     },
     "metadata": {},
     "output_type": "display_data"
    }
   ],
   "source": [
    "show_image_data_frame(df, image_number, plt);"
   ]
  },
  {
   "cell_type": "code",
   "execution_count": 11,
   "metadata": {},
   "outputs": [
    {
     "data": {
      "image/png": "[encoded data removed]",
      "text/plain": [
       "<matplotlib.figure.Figure at 0x7f58e8f94390>"
      ]
     },
     "metadata": {},
     "output_type": "display_data"
    }
   ],
   "source": [
    "label, image = get_image(df, image_number)\n",
    "sobel_x = cv2.Sobel(image,cv2.CV_32F,1,0,ksize=1)\n",
    "sobel_y = cv2.Sobel(image,cv2.CV_32F,0,1,ksize=1)\n",
    "_, (ax1, ax2, ax3) = plt.subplots(1, 3)\n",
    "ax1.imshow(sobel_x, cmap='gray')\n",
    "ax1.set_title('Sobel X')\n",
    "ax1.axis('off')\n",
    "ax2.imshow(sobel_y, cmap='gray')\n",
    "ax2.set_title('Sobel Y')\n",
    "ax2.axis('off')\n",
    "ax3.imshow(np.uint8(np.divide(sobel_y+0.001, sobel_x+0.001)))\n",
    "ax3.set_title('Sobel tan')\n",
    "ax3.axis('off');"
   ]
  },
  {
   "cell_type": "code",
   "execution_count": 12,
   "metadata": {},
   "outputs": [
    {
     "data": {
      "image/png": "[encoded data removed]",
      "text/plain": [
       "<matplotlib.figure.Figure at 0x7f58e75a98d0>"
      ]
     },
     "metadata": {},
     "output_type": "display_data"
    }
   ],
   "source": [
    "sns.lmplot(x='sobel_x', y='sobel_y', data=pd.DataFrame(np.transpose(np.array([sobel_x.flatten(), sobel_y.flatten()])), columns=['sobel_x', 'sobel_y']));\n",
    "plt.title('Sobel\\'s operator');"
   ]
  },
  {
   "cell_type": "code",
   "execution_count": 13,
   "metadata": {},
   "outputs": [
    {
     "name": "stdout",
     "output_type": "stream",
     "text": [
      "(Количество единиц в кодах, цифра): 728 5\n",
      "(Количество единиц в кодах, цифра): 1179 0\n",
      "(Количество единиц в кодах, цифра): 1076 4\n",
      "(Количество единиц в кодах, цифра): 786 1\n",
      "(Количество единиц в кодах, цифра): 982 9\n",
      "(Количество единиц в кодах, цифра): 975 2\n",
      "(Количество единиц в кодах, цифра): 901 1\n",
      "(Количество единиц в кодах, цифра): 933 3\n",
      "(Количество единиц в кодах, цифра): 776 1\n",
      "(Количество единиц в кодах, цифра): 934 4\n",
      "(Количество единиц в кодах, цифра): 903 3\n",
      "(Количество единиц в кодах, цифра): 518 5\n",
      "(Количество единиц в кодах, цифра): 927 3\n",
      "(Количество единиц в кодах, цифра): 1065 6\n",
      "(Количество единиц в кодах, цифра): 842 1\n",
      "(Количество единиц в кодах, цифра): 898 7\n",
      "(Количество единиц в кодах, цифра): 877 2\n",
      "(Количество единиц в кодах, цифра): 1001 8\n",
      "(Количество единиц в кодах, цифра): 871 6\n",
      "(Количество единиц в кодах, цифра): 772 9\n"
     ]
    }
   ],
   "source": [
    "max_number = 20\n",
    "for image_number in range(max_number):\n",
    "    label, image = get_image(df, image_number)\n",
    "    codes = get_codes(image)\n",
    "    print('(Количество единиц в кодах, цифра):', np.sum(codes.flatten()), label)"
   ]
  },
  {
   "cell_type": "code",
   "execution_count": 85,
   "metadata": {
    "collapsed": true
   },
   "outputs": [],
   "source": [
    "sub_set = df.loc[:, 0] < 5\n",
    "neurons = 50"
   ]
  },
  {
   "cell_type": "code",
   "execution_count": 134,
   "metadata": {},
   "outputs": [
    {
     "ename": "AttributeError",
     "evalue": "'list' object has no attribute 'fit'",
     "output_type": "error",
     "traceback": [
      "\u001b[0;31m---------------------------------------------------------------------------\u001b[0m",
      "\u001b[0;31mAttributeError\u001b[0m                            Traceback (most recent call last)",
      "\u001b[0;32m<ipython-input-134-01629d538eb5>\u001b[0m in \u001b[0;36m<module>\u001b[0;34m()\u001b[0m\n\u001b[1;32m      4\u001b[0m     \u001b[0mmlp_alpha\u001b[0m\u001b[0;34m.\u001b[0m\u001b[0mappend\u001b[0m\u001b[0;34m(\u001b[0m\u001b[0mMLPRegressor\u001b[0m\u001b[0;34m(\u001b[0m\u001b[0mhidden_layer_sizes\u001b[0m\u001b[0;34m=\u001b[0m\u001b[0;34m(\u001b[0m\u001b[0mneurons\u001b[0m\u001b[0;34m,\u001b[0m\u001b[0;34m)\u001b[0m\u001b[0;34m,\u001b[0m \u001b[0mrandom_state\u001b[0m\u001b[0;34m=\u001b[0m\u001b[0;36m42\u001b[0m\u001b[0;34m)\u001b[0m\u001b[0;34m)\u001b[0m\u001b[0;34m\u001b[0m\u001b[0m\n\u001b[1;32m      5\u001b[0m     \u001b[0msub_set\u001b[0m \u001b[0;34m=\u001b[0m \u001b[0mdf\u001b[0m\u001b[0;34m.\u001b[0m\u001b[0mloc\u001b[0m\u001b[0;34m[\u001b[0m\u001b[0;34m:\u001b[0m\u001b[0;34m,\u001b[0m \u001b[0;36m0\u001b[0m\u001b[0;34m]\u001b[0m \u001b[0;34m<\u001b[0m \u001b[0;36m5\u001b[0m\u001b[0;34m\u001b[0m\u001b[0m\n\u001b[0;32m----> 6\u001b[0;31m     \u001b[0mmlp_alpha\u001b[0m\u001b[0;34m.\u001b[0m\u001b[0mfit\u001b[0m\u001b[0;34m(\u001b[0m\u001b[0mdf_rotate\u001b[0m\u001b[0;34m.\u001b[0m\u001b[0mloc\u001b[0m\u001b[0;34m[\u001b[0m\u001b[0msub_set\u001b[0m\u001b[0;34m,\u001b[0m \u001b[0;36m1\u001b[0m\u001b[0;34m:\u001b[0m\u001b[0;34m]\u001b[0m\u001b[0;34m,\u001b[0m \u001b[0mdf\u001b[0m\u001b[0;34m.\u001b[0m\u001b[0mloc\u001b[0m\u001b[0;34m[\u001b[0m\u001b[0msub_set\u001b[0m\u001b[0;34m,\u001b[0m \u001b[0;36m1\u001b[0m\u001b[0;34m:\u001b[0m\u001b[0;34m]\u001b[0m\u001b[0;34m)\u001b[0m\u001b[0;34m\u001b[0m\u001b[0m\n\u001b[0m",
      "\u001b[0;31mAttributeError\u001b[0m: 'list' object has no attribute 'fit'"
     ]
    }
   ],
   "source": [
    "mlp_alpha = []\n",
    "for alpha in range(0, 360, 10):\n",
    "    df_rotate = df.apply(lambda row: rotate_row_data_frame(row, alpha=alpha, scale=1), axis=1)\n",
    "    mlp_alpha.append(MLPRegressor(hidden_layer_sizes=(neurons,), random_state=42))\n",
    "    sub_set = df.loc[:, 0] < 5\n",
    "    mlp_alpha.fit(df_rotate.loc[sub_set, 1:], df.loc[sub_set, 1:])"
   ]
  },
  {
   "cell_type": "code",
   "execution_count": null,
   "metadata": {},
   "outputs": [],
   "source": [
    "mlp_scale = []\n",
    "for alpha in range(0.5, 1.5, 0.05):\n",
    "    df_scaled = df.apply(lambda row: rotate_row_data_frame(row, alpha=0, scale=1.5), axis=1)\n",
    "    mlp_scale.append(MLPRegressor(hidden_layer_sizes=(neurons,), random_state=42))\n",
    "    mlp_scale[-1].fit(df_scaled.loc[sub_set, 1:], df.loc[sub_set, 1:])"
   ]
  },
  {
   "cell_type": "code",
   "execution_count": null,
   "metadata": {},
   "outputs": [],
   "source": [
    "with open('data/models.pkl', 'wb') as f:\n",
    "    pkl.dump({'scale': mlp_scale, 'rotate': mlp_alpha}, f)"
   ]
  },
  {
   "cell_type": "code",
   "execution_count": 92,
   "metadata": {},
   "outputs": [
    {
     "data": {
      "text/plain": [
       "1344.4169540898924"
      ]
     },
     "execution_count": 92,
     "metadata": {},
     "output_type": "execute_result"
    }
   ],
   "source": [
    "mean_squared_error(df.loc[~sub_set, 1:], mlp_scale[-1].predict(df_rotate.loc[~sub_set, 1:]))"
   ]
  },
  {
   "cell_type": "code",
   "execution_count": 101,
   "metadata": {},
   "outputs": [],
   "source": [
    "y_pred = mlp_scale[-1].predict(df_rotate.loc[~sub_set, 1:])"
   ]
  },
  {
   "cell_type": "code",
   "execution_count": 102,
   "metadata": {},
   "outputs": [],
   "source": [
    "df_test = df.iloc[np.where(~sub_set)]\n",
    "df_rotate_test = df_rotate.iloc[np.where(~sub_set)]"
   ]
  },
  {
   "cell_type": "code",
   "execution_count": 126,
   "metadata": {
    "collapsed": true
   },
   "outputs": [],
   "source": [
    "ind = 800"
   ]
  },
  {
   "cell_type": "code",
   "execution_count": 127,
   "metadata": {},
   "outputs": [
    {
     "data": {
      "image/png": "[encoded data removed]",
      "text/plain": [
       "<matplotlib.figure.Figure at 0x7f58e901dd68>"
      ]
     },
     "metadata": {},
     "output_type": "display_data"
    }
   ],
   "source": [
    "plt.imshow(df_test.iloc[ind, 1:].values.reshape((28, 28)).astype(np.uint8), cmap='gray');\n",
    "plt.axis('off');"
   ]
  },
  {
   "cell_type": "code",
   "execution_count": 128,
   "metadata": {},
   "outputs": [
    {
     "data": {
      "image/png": "[encoded data removed]",
      "text/plain": [
       "<matplotlib.figure.Figure at 0x7f58e901d668>"
      ]
     },
     "metadata": {},
     "output_type": "display_data"
    }
   ],
   "source": [
    "plt.imshow(df_rotate_test.iloc[ind, 1:].values.reshape((28, 28)).astype(np.uint8), cmap='gray');\n",
    "plt.axis('off');"
   ]
  },
  {
   "cell_type": "code",
   "execution_count": 129,
   "metadata": {},
   "outputs": [
    {
     "data": {
      "image/png": "[encoded data removed]",
      "text/plain": [
       "<matplotlib.figure.Figure at 0x7f58ce07cba8>"
      ]
     },
     "metadata": {},
     "output_type": "display_data"
    }
   ],
   "source": [
    "tmp = np.uint((y_pred[ind] - np.min(y_pred[ind])) / (np.max(y_pred[ind]) - np.min(y_pred[ind])) > 0.5)\n",
    "plt.imshow(tmp.reshape((28, 28)).astype(np.uint8), cmap='gray');\n",
    "plt.axis('off');"
   ]
  }
 ],
 "metadata": {
  "kernelspec": {
   "display_name": "Python 3",
   "language": "python",
   "name": "python3"
  },
  "language_info": {
   "codemirror_mode": {
    "name": "ipython",
    "version": 3
   },
   "file_extension": ".py",
   "mimetype": "text/x-python",
   "name": "python",
   "nbconvert_exporter": "python",
   "pygments_lexer": "ipython3",
   "version": "3.5.2"
  }
 },
 "nbformat": 4,
 "nbformat_minor": 2
}
