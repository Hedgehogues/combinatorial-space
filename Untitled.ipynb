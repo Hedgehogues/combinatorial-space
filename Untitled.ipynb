{
 "cells": [
  {
   "cell_type": "code",
   "execution_count": 192,
   "metadata": {},
   "outputs": [],
   "source": [
    "from tqdm import tqdm\n",
    "import pandas as pd\n",
    "import cv2 \n",
    "import matplotlib.pyplot as plt\n",
    "import matplotlib.image as mpimg\n",
    "import numpy as np\n",
    "import seaborn as sns\n",
    "\n",
    "np.warnings.filterwarnings('ignore')\n",
    "\n",
    "%matplotlib inline"
   ]
  },
  {
   "cell_type": "code",
   "execution_count": 207,
   "metadata": {
    "collapsed": true
   },
   "outputs": [],
   "source": [
    "def convert(imgf, labelf, outf, n):\n",
    "    f = open(imgf, \"rb\")\n",
    "    o = open(outf, \"w\")\n",
    "    l = open(labelf, \"rb\")\n",
    "\n",
    "    f.read(16)\n",
    "    l.read(8)\n",
    "    images = []\n",
    "\n",
    "    for i in tqdm(range(n), desc=outf):\n",
    "        image = [ord(l.read(1))]\n",
    "        for j in range(28*28):\n",
    "            image.append(ord(f.read(1)))\n",
    "        images.append(image)\n",
    "\n",
    "    for image in images:\n",
    "        o.write(\",\".join(str(pix) for pix in image)+\"\\n\")\n",
    "    f.close()\n",
    "    o.close()\n",
    "    l.close()\n",
    "    \n",
    "def show_image(df, index, ax):\n",
    "    ax.imshow(get_image(df, index)[1], cmap='gray');\n",
    "    ax.title('Цифра:'+str(df.loc[index, 0]))\n",
    "    ax.axis('off');\n",
    "    \n",
    "def get_image(df, index):\n",
    "    return df.loc[index, 0], df.loc[index, 1:].values.reshape((28, 28)).astype(np.uint8)\n",
    "\n",
    "def get_codes(image, count_directs=8, width_angle=np.pi/2, strength_threshould=0):\n",
    "    sobel_x = cv2.Sobel(image,cv2.CV_32F,1,0,ksize=1)\n",
    "    sobel_y = cv2.Sobel(image,cv2.CV_32F,0,1,ksize=1)\n",
    "    \n",
    "    start_angle = -np.pi/2\n",
    "    \n",
    "    residual_angle = np.pi - width_angle\n",
    "    step_angle = residual_angle / (count_directs-1)\n",
    "    \n",
    "    gamma_down = np.arange(start_angle, start_angle+width_angle+step_angle, step_angle)\n",
    "    gamma_up = gamma_down+width_angle\n",
    "    \n",
    "    angle = np.arctan(sobel_y / sobel_x)\n",
    "    strength = np.sqrt(sobel_y** 2 + sobel_x ** 2)\n",
    "    \n",
    "    return np.array([\n",
    "        np.uint((gamma_down[i] <= angle) & (angle <= gamma_up[i]) & (strength >= strength_threshould))\n",
    "        for i in range(0, count_directs)\n",
    "    ])"
   ]
  },
  {
   "cell_type": "code",
   "execution_count": 16,
   "metadata": {
    "collapsed": true
   },
   "outputs": [],
   "source": [
    "path = 'data/MNIST/'\n",
    "conf_test = {\n",
    "    'imgf': path+'t10k-images.idx3-ubyte',\n",
    "    'labelf': path+'t10k-labels.idx1-ubyte',\n",
    "    'n': 10000,\n",
    "    'outf': path+'mnist_test.csv'\n",
    "}\n",
    "conf_train = {\n",
    "    'imgf': path+'train-images.idx3-ubyte',\n",
    "    'labelf': path+'train-labels.idx1-ubyte',\n",
    "    'n': 60000,\n",
    "    'outf': path+'mnist_train.csv'\n",
    "}"
   ]
  },
  {
   "cell_type": "code",
   "execution_count": 5,
   "metadata": {},
   "outputs": [
    {
     "name": "stderr",
     "output_type": "stream",
     "text": [
      "data/MNIST/mnist_test.csv: 100%|██████████| 10000/10000 [00:02<00:00, 3791.92it/s]\n",
      "data/MNIST/mnist_train.csv: 100%|██████████| 60000/60000 [00:16<00:00, 3739.83it/s]\n"
     ]
    }
   ],
   "source": [
    "convert(**conf_test)\n",
    "convert(**conf_train)"
   ]
  },
  {
   "cell_type": "code",
   "execution_count": 6,
   "metadata": {
    "collapsed": true
   },
   "outputs": [],
   "source": [
    "df = pd.read_csv(conf_train['outf'], header=None)"
   ]
  },
  {
   "cell_type": "code",
   "execution_count": 7,
   "metadata": {},
   "outputs": [
    {
     "data": {
      "text/html": [
       "<div>\n",
       "<style>\n",
       "    .dataframe thead tr:only-child th {\n",
       "        text-align: right;\n",
       "    }\n",
       "\n",
       "    .dataframe thead th {\n",
       "        text-align: left;\n",
       "    }\n",
       "\n",
       "    .dataframe tbody tr th {\n",
       "        vertical-align: top;\n",
       "    }\n",
       "</style>\n",
       "<table border=\"1\" class=\"dataframe\">\n",
       "  <thead>\n",
       "    <tr style=\"text-align: right;\">\n",
       "      <th></th>\n",
       "      <th>0</th>\n",
       "      <th>1</th>\n",
       "      <th>2</th>\n",
       "      <th>3</th>\n",
       "      <th>4</th>\n",
       "      <th>5</th>\n",
       "      <th>6</th>\n",
       "      <th>7</th>\n",
       "      <th>8</th>\n",
       "      <th>9</th>\n",
       "      <th>...</th>\n",
       "      <th>775</th>\n",
       "      <th>776</th>\n",
       "      <th>777</th>\n",
       "      <th>778</th>\n",
       "      <th>779</th>\n",
       "      <th>780</th>\n",
       "      <th>781</th>\n",
       "      <th>782</th>\n",
       "      <th>783</th>\n",
       "      <th>784</th>\n",
       "    </tr>\n",
       "  </thead>\n",
       "  <tbody>\n",
       "    <tr>\n",
       "      <th>0</th>\n",
       "      <td>5</td>\n",
       "      <td>0</td>\n",
       "      <td>0</td>\n",
       "      <td>0</td>\n",
       "      <td>0</td>\n",
       "      <td>0</td>\n",
       "      <td>0</td>\n",
       "      <td>0</td>\n",
       "      <td>0</td>\n",
       "      <td>0</td>\n",
       "      <td>...</td>\n",
       "      <td>0</td>\n",
       "      <td>0</td>\n",
       "      <td>0</td>\n",
       "      <td>0</td>\n",
       "      <td>0</td>\n",
       "      <td>0</td>\n",
       "      <td>0</td>\n",
       "      <td>0</td>\n",
       "      <td>0</td>\n",
       "      <td>0</td>\n",
       "    </tr>\n",
       "    <tr>\n",
       "      <th>1</th>\n",
       "      <td>0</td>\n",
       "      <td>0</td>\n",
       "      <td>0</td>\n",
       "      <td>0</td>\n",
       "      <td>0</td>\n",
       "      <td>0</td>\n",
       "      <td>0</td>\n",
       "      <td>0</td>\n",
       "      <td>0</td>\n",
       "      <td>0</td>\n",
       "      <td>...</td>\n",
       "      <td>0</td>\n",
       "      <td>0</td>\n",
       "      <td>0</td>\n",
       "      <td>0</td>\n",
       "      <td>0</td>\n",
       "      <td>0</td>\n",
       "      <td>0</td>\n",
       "      <td>0</td>\n",
       "      <td>0</td>\n",
       "      <td>0</td>\n",
       "    </tr>\n",
       "    <tr>\n",
       "      <th>2</th>\n",
       "      <td>4</td>\n",
       "      <td>0</td>\n",
       "      <td>0</td>\n",
       "      <td>0</td>\n",
       "      <td>0</td>\n",
       "      <td>0</td>\n",
       "      <td>0</td>\n",
       "      <td>0</td>\n",
       "      <td>0</td>\n",
       "      <td>0</td>\n",
       "      <td>...</td>\n",
       "      <td>0</td>\n",
       "      <td>0</td>\n",
       "      <td>0</td>\n",
       "      <td>0</td>\n",
       "      <td>0</td>\n",
       "      <td>0</td>\n",
       "      <td>0</td>\n",
       "      <td>0</td>\n",
       "      <td>0</td>\n",
       "      <td>0</td>\n",
       "    </tr>\n",
       "    <tr>\n",
       "      <th>3</th>\n",
       "      <td>1</td>\n",
       "      <td>0</td>\n",
       "      <td>0</td>\n",
       "      <td>0</td>\n",
       "      <td>0</td>\n",
       "      <td>0</td>\n",
       "      <td>0</td>\n",
       "      <td>0</td>\n",
       "      <td>0</td>\n",
       "      <td>0</td>\n",
       "      <td>...</td>\n",
       "      <td>0</td>\n",
       "      <td>0</td>\n",
       "      <td>0</td>\n",
       "      <td>0</td>\n",
       "      <td>0</td>\n",
       "      <td>0</td>\n",
       "      <td>0</td>\n",
       "      <td>0</td>\n",
       "      <td>0</td>\n",
       "      <td>0</td>\n",
       "    </tr>\n",
       "    <tr>\n",
       "      <th>4</th>\n",
       "      <td>9</td>\n",
       "      <td>0</td>\n",
       "      <td>0</td>\n",
       "      <td>0</td>\n",
       "      <td>0</td>\n",
       "      <td>0</td>\n",
       "      <td>0</td>\n",
       "      <td>0</td>\n",
       "      <td>0</td>\n",
       "      <td>0</td>\n",
       "      <td>...</td>\n",
       "      <td>0</td>\n",
       "      <td>0</td>\n",
       "      <td>0</td>\n",
       "      <td>0</td>\n",
       "      <td>0</td>\n",
       "      <td>0</td>\n",
       "      <td>0</td>\n",
       "      <td>0</td>\n",
       "      <td>0</td>\n",
       "      <td>0</td>\n",
       "    </tr>\n",
       "  </tbody>\n",
       "</table>\n",
       "<p>5 rows × 785 columns</p>\n",
       "</div>"
      ],
      "text/plain": [
       "   0    1    2    3    4    5    6    7    8    9   ...   775  776  777  778  \\\n",
       "0    5    0    0    0    0    0    0    0    0    0 ...     0    0    0    0   \n",
       "1    0    0    0    0    0    0    0    0    0    0 ...     0    0    0    0   \n",
       "2    4    0    0    0    0    0    0    0    0    0 ...     0    0    0    0   \n",
       "3    1    0    0    0    0    0    0    0    0    0 ...     0    0    0    0   \n",
       "4    9    0    0    0    0    0    0    0    0    0 ...     0    0    0    0   \n",
       "\n",
       "   779  780  781  782  783  784  \n",
       "0    0    0    0    0    0    0  \n",
       "1    0    0    0    0    0    0  \n",
       "2    0    0    0    0    0    0  \n",
       "3    0    0    0    0    0    0  \n",
       "4    0    0    0    0    0    0  \n",
       "\n",
       "[5 rows x 785 columns]"
      ]
     },
     "execution_count": 7,
     "metadata": {},
     "output_type": "execute_result"
    }
   ],
   "source": [
    "df.head()"
   ]
  },
  {
   "cell_type": "code",
   "execution_count": 139,
   "metadata": {
    "collapsed": true
   },
   "outputs": [],
   "source": [
    "image_number = 2"
   ]
  },
  {
   "cell_type": "code",
   "execution_count": 140,
   "metadata": {},
   "outputs": [
    {
     "data": {
      "image/png": "[encoded data removed]",
      "text/plain": [
       "<matplotlib.figure.Figure at 0x7f3b70d3e438>"
      ]
     },
     "metadata": {},
     "output_type": "display_data"
    }
   ],
   "source": [
    "show_image(df, image_number, plt);"
   ]
  },
  {
   "cell_type": "code",
   "execution_count": 165,
   "metadata": {},
   "outputs": [
    {
     "data": {
      "image/png": "[encoded data removed]",
      "text/plain": [
       "<matplotlib.figure.Figure at 0x7f3b52763f28>"
      ]
     },
     "metadata": {},
     "output_type": "display_data"
    }
   ],
   "source": [
    "label, image = get_image(df, image_number)\n",
    "sobel_x = cv2.Sobel(image,cv2.CV_32F,1,0,ksize=1)\n",
    "sobel_y = cv2.Sobel(image,cv2.CV_32F,0,1,ksize=1)\n",
    "_, (ax1, ax2, ax3) = plt.subplots(1, 3)\n",
    "ax1.imshow(sobel_x, cmap='gray')\n",
    "ax1.set_title('Sobel X')\n",
    "ax1.axis('off')\n",
    "ax2.imshow(sobel_y, cmap='gray')\n",
    "ax2.set_title('Sobel Y')\n",
    "ax2.axis('off')\n",
    "ax3.imshow(np.uint8(np.divide(sobel_y+0.001, sobel_x+0.001)))\n",
    "ax3.set_title('Sobel tan')\n",
    "ax3.axis('off');"
   ]
  },
  {
   "cell_type": "code",
   "execution_count": 151,
   "metadata": {},
   "outputs": [
    {
     "data": {
      "image/png": "[encoded data removed]",
      "text/plain": [
       "<matplotlib.figure.Figure at 0x7f3b709cde80>"
      ]
     },
     "metadata": {},
     "output_type": "display_data"
    }
   ],
   "source": [
    "sns.lmplot(x='sobel_x', y='sobel_y', data=pd.DataFrame(np.transpose(np.array([sobel_x.flatten(), sobel_y.flatten()])), columns=['sobel_x', 'sobel_y']));\n",
    "plt.title('Sobel\\'s operator');"
   ]
  },
  {
   "cell_type": "code",
   "execution_count": 213,
   "metadata": {},
   "outputs": [
    {
     "name": "stdout",
     "output_type": "stream",
     "text": [
      "(Количество единиц в кодах, цифра): 728 5\n",
      "(Количество единиц в кодах, цифра): 1179 0\n",
      "(Количество единиц в кодах, цифра): 1076 4\n",
      "(Количество единиц в кодах, цифра): 786 1\n",
      "(Количество единиц в кодах, цифра): 982 9\n",
      "(Количество единиц в кодах, цифра): 975 2\n",
      "(Количество единиц в кодах, цифра): 901 1\n",
      "(Количество единиц в кодах, цифра): 933 3\n",
      "(Количество единиц в кодах, цифра): 776 1\n",
      "(Количество единиц в кодах, цифра): 934 4\n",
      "(Количество единиц в кодах, цифра): 903 3\n",
      "(Количество единиц в кодах, цифра): 518 5\n",
      "(Количество единиц в кодах, цифра): 927 3\n",
      "(Количество единиц в кодах, цифра): 1065 6\n",
      "(Количество единиц в кодах, цифра): 842 1\n",
      "(Количество единиц в кодах, цифра): 898 7\n",
      "(Количество единиц в кодах, цифра): 877 2\n",
      "(Количество единиц в кодах, цифра): 1001 8\n",
      "(Количество единиц в кодах, цифра): 871 6\n",
      "(Количество единиц в кодах, цифра): 772 9\n"
     ]
    }
   ],
   "source": [
    "max_number = 20\n",
    "for image_number in range(max_number):\n",
    "    label, image = get_image(df, image_number)\n",
    "    codes = get_codes(image)\n",
    "    print('(Количество единиц в кодах, цифра):', np.sum(codes.flatten()), label)"
   ]
  },
  {
   "cell_type": "code",
   "execution_count": null,
   "metadata": {
    "collapsed": true
   },
   "outputs": [],
   "source": []
  }
 ],
 "metadata": {
  "kernelspec": {
   "display_name": "Python 3",
   "language": "python",
   "name": "python3"
  },
  "language_info": {
   "codemirror_mode": {
    "name": "ipython",
    "version": 3
   },
   "file_extension": ".py",
   "mimetype": "text/x-python",
   "name": "python",
   "nbconvert_exporter": "python",
   "pygments_lexer": "ipython3",
   "version": "3.5.2"
  }
 },
 "nbformat": 4,
 "nbformat_minor": 2
}
