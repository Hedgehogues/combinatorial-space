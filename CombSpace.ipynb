{
 "cells": [
  {
   "cell_type": "code",
   "execution_count": 1,
   "metadata": {},
   "outputs": [],
   "source": [
    "import pandas as pd\n",
    "import numpy as np\n",
    "\n",
    "import pickle\n",
    "\n",
    "from src import image_transformations\n",
    "from src.combinatorial_space.minicolumn import Minicolumn, LearnEnum\n",
    "from src.context_transform import ContextTransformations\n",
    "from matplotlib import pyplot as plt\n",
    "import seaborn as sns\n",
    "\n",
    "%matplotlib inline"
   ]
  },
  {
   "cell_type": "markdown",
   "metadata": {},
   "source": [
    "Загрузка **MNIST**"
   ]
  },
  {
   "cell_type": "code",
   "execution_count": 2,
   "metadata": {},
   "outputs": [],
   "source": [
    "df = pd.read_csv('data/MNIST/mnist_train.csv', header=None, nrows=10000)"
   ]
  },
  {
   "cell_type": "markdown",
   "metadata": {},
   "source": [
    "Инициализация Миниколлонки"
   ]
  },
  {
   "cell_type": "code",
   "execution_count": 8,
   "metadata": {},
   "outputs": [],
   "source": [
    "max_number = 5000\n",
    "count_subimages_for_image = 10\n",
    "window_size = [4, 4]\n",
    "minicolumn = Minicolumn(\n",
    "    space_size=1,\n",
    "    max_count_clusters=30000,\n",
    "    count_in_dimensions=64, in_random_bits=25,\n",
    "    count_out_dimensions=20, out_random_bits=15,\n",
    "    seed=42,\n",
    "    code_aligment_threshold=4,\n",
    "    in_threshold_activate=1,\n",
    "    out_threshold_activate=1,\n",
    "    in_threshold_modify=3,\n",
    "    out_threshold_modify=3,\n",
    "    base_lr=0.3, threshold_bin=0.1\n",
    ")\n",
    "transforms = ContextTransformations(count_directs=4)"
   ]
  },
  {
   "cell_type": "markdown",
   "metadata": {},
   "source": [
    "Обучение миниколонки"
   ]
  },
  {
   "cell_type": "code",
   "execution_count": 9,
   "metadata": {},
   "outputs": [],
   "source": [
    "def sleep__(minicolumn):\n",
    "    print('Сон')\n",
    "    clusters_of_points, the_same_clusters = minicolumn.sleep(\n",
    "        threshold_active=0.6,\n",
    "        threshold_in_len=3,\n",
    "        threshold_out_len=2\n",
    "    )\n",
    "    sum_ = 0\n",
    "    for ind, cluster in enumerate(clusters_of_points):\n",
    "        if len(cluster) == 0:\n",
    "            sum_ += 1\n",
    "    print(\n",
    "        'Неактивные точки:', sum_,\n",
    "        '. Одинаковые кластеры:', the_same_clusters\n",
    "    )\n",
    "\n",
    "means = []\n",
    "delta = []\n",
    "ind = 0\n",
    "opt_context_numbes = []\n",
    "opt_image_sample = []\n",
    "opt_out = []\n",
    "opt_ind_arr = []\n",
    "\n",
    "for i in range(1, 10000):\n",
    "    np.sort(np.random.permutation(64)[:25])\n",
    "    np.sort(np.random.permutation(20)[:15])"
   ]
  },
  {
   "cell_type": "code",
   "execution_count": 10,
   "metadata": {},
   "outputs": [
    {
     "name": "stdout",
     "output_type": "stream",
     "text": [
      "0 5\n",
      "№ 0 Всего кластеров: 1\n",
      "№ 1 Всего кластеров: 1\n",
      "№ 2 Всего кластеров: 2\n",
      "№ 3 Всего кластеров: 3\n",
      "№ 4 Всего кластеров: 4\n",
      "№ 5 Всего кластеров: 5\n",
      "№ 6 Всего кластеров: 6\n",
      "№ 7 Всего кластеров: 7\n",
      "№ 8 Всего кластеров: 8\n",
      "№ 9 Всего кластеров: 9\n",
      "Изменение кол-ва кластеров 9\n"
     ]
    }
   ],
   "source": [
    "for image_number in range(max_number):\n",
    "    label, image = image_transformations.get_image(df, image_number)\n",
    "    print(image_number, label)\n",
    "    start = minicolumn.count_clusters\n",
    "    for subimage_number in range(count_subimages_for_image):\n",
    "        codes, context_numbes, image_sample = transforms.get_all_codes(image, True, True)\n",
    "        if codes is None:\n",
    "            continue\n",
    "        opt_ind, out_code, status = minicolumn.learn(\n",
    "            codes,\n",
    "            ind, \n",
    "            threshold_controversy_in=20, \n",
    "            threshold_controversy_out=5\n",
    "        )\n",
    "        opt_context_numbes.append(context_numbes[opt_ind])\n",
    "        opt_image_sample.append(image_sample)\n",
    "        opt_out.append(out_code)\n",
    "        opt_ind_arr.append(opt_ind)\n",
    "\n",
    "        if status == LearnEnum.LEARN:\n",
    "            print('№', ind, 'Всего кластеров:', minicolumn.count_clusters)\n",
    "            means.append(np.mean([len(p.clusters) for p in minicolumn.space]))\n",
    "        elif status == LearnEnum.SLEEP:\n",
    "#             sleep__(minicolumn)\n",
    "            pass\n",
    "        ind += 1\n",
    "\n",
    "    print('Изменение кол-ва кластеров', minicolumn.count_clusters - start)\n",
    "    delta.append(minicolumn.count_clusters - start)\n",
    "    if minicolumn.is_sleep() or minicolumn.count_clusters - start < 60:\n",
    "#         sleep__(minicolumn)\n",
    "        pickle.dump(minicolumn, open('data/minicolumn.pkl', 'wb'))\n",
    "        break\n"
   ]
  },
  {
   "cell_type": "code",
   "execution_count": 11,
   "metadata": {},
   "outputs": [
    {
     "data": {
      "text/plain": [
       "([-3, -2], (array([ 4,  7,  9, 17]),), 1)"
      ]
     },
     "execution_count": 11,
     "metadata": {},
     "output_type": "execute_result"
    },
    {
     "data": {
      "image/png": "[encoded data removed]",
      "text/plain": [
       "<matplotlib.figure.Figure at 0x7fcf008ae240>"
      ]
     },
     "metadata": {},
     "output_type": "display_data"
    }
   ],
   "source": [
    "ind = 1\n",
    "plt.figure(1)\n",
    "plt.subplot(121)\n",
    "plt.imshow(transforms.get_context_image(opt_image_sample[ind], opt_context_numbes[ind]));\n",
    "plt.subplot(122)\n",
    "plt.imshow(opt_image_sample[ind]);\n",
    "opt_context_numbes[ind], np.where(opt_out[ind]), opt_ind_arr[ind]"
   ]
  },
  {
   "cell_type": "code",
   "execution_count": 96,
   "metadata": {},
   "outputs": [],
   "source": [
    "stats = []\n",
    "for ind, point in enumerate(minicolumn.space):\n",
    "    stats.append(point.statistics)\n",
    "\n",
    "all_clusters = {}\n",
    "n = 33\n",
    "for im_num in range(n):\n",
    "    ind = 0\n",
    "    clusters = []\n",
    "    for point in stats:\n",
    "        for cluster in point:\n",
    "            ind += 1\n",
    "            if np.sum(np.uint8(np.array(cluster) == im_num)) > 0:\n",
    "                clusters.append(ind)\n",
    "    all_clusters[im_num] = clusters"
   ]
  },
  {
   "cell_type": "code",
   "execution_count": 98,
   "metadata": {},
   "outputs": [
    {
     "data": {
      "image/png": "[encoded data removed]",
      "text/plain": [
       "<matplotlib.figure.Figure at 0x7f0da0daedd8>"
      ]
     },
     "metadata": {},
     "output_type": "display_data"
    }
   ],
   "source": [
    "matr = []\n",
    "max_im = 33\n",
    "threshold = 0.5\n",
    "for a in range(max_im):\n",
    "    matr.append([])\n",
    "    for b in range(max_im):\n",
    "        if len(all_clusters[a]) > 0 and len(all_clusters[b]) > 0:\n",
    "            if b > a:\n",
    "                matr[-1].append(len(set(all_clusters[a]).intersection(all_clusters[b])) / len(all_clusters[b]) > threshold)\n",
    "            elif b < a:\n",
    "                matr[-1].append(len(set(all_clusters[a]).intersection(all_clusters[b])) / len(all_clusters[a]) > threshold)\n",
    "            else:\n",
    "                matr[-1].append(3)\n",
    "        else:\n",
    "            matr[-1].append(0)\n",
    "            \n",
    "plt.imshow(matr, cmap='hot', interpolation='nearest');"
   ]
  },
  {
   "cell_type": "markdown",
   "metadata": {},
   "source": [
    "Количество кластеров, в зависимости от номера шага"
   ]
  },
  {
   "cell_type": "code",
   "execution_count": 6,
   "metadata": {},
   "outputs": [
    {
     "data": {
      "image/png": "[encoded data removed]",
      "text/plain": [
       "<matplotlib.figure.Figure at 0x7fe0f8eb0a20>"
      ]
     },
     "metadata": {},
     "output_type": "display_data"
    }
   ],
   "source": [
    "plt.plot(np.arange(len(means)), means);"
   ]
  },
  {
   "cell_type": "markdown",
   "metadata": {},
   "source": [
    "Предсказание"
   ]
  },
  {
   "cell_type": "code",
   "execution_count": 8,
   "metadata": {},
   "outputs": [],
   "source": [
    "window_size = [4, 4]\n",
    "transforms = ContextTransformations(count_directs=4)\n",
    "minicolumn = pickle.load(open('data/minicolumn.pkl', 'rb'))"
   ]
  },
  {
   "cell_type": "code",
   "execution_count": 9,
   "metadata": {},
   "outputs": [
    {
     "name": "stdout",
     "output_type": "stream",
     "text": [
      "0\n",
      "1\n",
      "2\n",
      "3\n",
      "4\n",
      "5\n",
      "6\n",
      "7\n",
      "8\n",
      "9\n",
      "10\n",
      "11\n",
      "12\n",
      "13\n",
      "14\n",
      "15\n",
      "16\n",
      "17\n",
      "18\n",
      "19\n",
      "20\n",
      "21\n",
      "22\n",
      "23\n",
      "24\n",
      "25\n",
      "26\n",
      "27\n",
      "28\n",
      "29\n"
     ]
    }
   ],
   "source": [
    "images = []\n",
    "out_codes = []\n",
    "start_number = 5000\n",
    "max_number = 5030\n",
    "for ind, image_number in enumerate(range(start_number, max_number)):\n",
    "    label, image = image_transformations.get_image(df, image_number)\n",
    "    for subimage_number in range(0, count_subimages_for_image):\n",
    "        codes, context_numbes, image_sample = transforms.get_all_codes(\n",
    "            image,\n",
    "            context_numbers_flag=True, \n",
    "            image_sample_falg=True\n",
    "        )\n",
    "        if codes is None:\n",
    "            continue\n",
    "        in_code, out_code, opt_ind = minicolumn.unsupervised_learning(codes, 20, 5)\n",
    "        if in_code is not None:\n",
    "            images.append(transforms.get_context_image(image_sample, context_numbes[opt_ind]))\n",
    "            out_codes.append(out_code)\n",
    "    print(ind)"
   ]
  },
  {
   "cell_type": "code",
   "execution_count": 15,
   "metadata": {},
   "outputs": [
    {
     "data": {
      "image/png": "[encoded data removed]",
      "text/plain": [
       "<matplotlib.figure.Figure at 0x7fe0f9622940>"
      ]
     },
     "metadata": {},
     "output_type": "display_data"
    }
   ],
   "source": [
    "s = 0\n",
    "dist_matrix = []\n",
    "graph = []\n",
    "threshold = 5\n",
    "for i in range(len(out_codes)):\n",
    "    dist_matrix.append([])\n",
    "    graph.append([])\n",
    "    for j in range(len(out_codes)):\n",
    "        is_edge = np.sum(np.uint8(np.logical_xor(out_codes[i], out_codes[j]))) < threshold\n",
    "        dist_matrix[-1].append(np.uint(is_edge))\n",
    "        if is_edge:\n",
    "            graph[-1].append(j)\n",
    "\n",
    "plt.imshow(dist_matrix, cmap='hot', interpolation='nearest');"
   ]
  },
  {
   "cell_type": "code",
   "execution_count": 16,
   "metadata": {},
   "outputs": [],
   "source": [
    "check = np.zeros(len(graph))\n",
    "clusters = []\n",
    "def dfs(current_vertex, clusters):\n",
    "    check[current_vertex] = 1\n",
    "    clusters[-1].append(current_vertex)\n",
    "    for vertex in graph[current_vertex]:\n",
    "        if check[vertex] == 0:\n",
    "            dfs(vertex, clusters)\n",
    "            \n",
    "for vertex in np.arange(0, len(graph)):\n",
    "    if not check[vertex]:\n",
    "        clusters.append([])\n",
    "        dfs(vertex, clusters)"
   ]
  },
  {
   "cell_type": "code",
   "execution_count": 20,
   "metadata": {},
   "outputs": [
    {
     "data": {
      "text/plain": [
       "277"
      ]
     },
     "execution_count": 20,
     "metadata": {},
     "output_type": "execute_result"
    }
   ],
   "source": [
    "len(clusters[0])"
   ]
  }
 ],
 "metadata": {
  "kernelspec": {
   "display_name": "Python 3",
   "language": "python",
   "name": "python3"
  },
  "language_info": {
   "codemirror_mode": {
    "name": "ipython",
    "version": 3
   },
   "file_extension": ".py",
   "mimetype": "text/x-python",
   "name": "python",
   "nbconvert_exporter": "python",
   "pygments_lexer": "ipython3",
   "version": "3.5.4"
  }
 },
 "nbformat": 4,
 "nbformat_minor": 2
}
