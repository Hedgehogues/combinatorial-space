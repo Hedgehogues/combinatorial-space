{
 "cells": [
  {
   "cell_type": "markdown",
   "metadata": {},
   "source": [
    "## Замечание\n",
    "\n",
    "Коды рассчитываются старым способом: происходит деление на 8 частей. Это необходимо поправить и заменить `np.atan()` на `np.atan2()`"
   ]
  },
  {
   "cell_type": "code",
   "execution_count": 1,
   "metadata": {
    "collapsed": true
   },
   "outputs": [],
   "source": [
    "from tqdm import tqdm\n",
    "import pandas as pd\n",
    "import cv2 \n",
    "import matplotlib.pyplot as plt\n",
    "import matplotlib.image as mpimg\n",
    "import numpy as np\n",
    "import seaborn as sns\n",
    "from sklearn.neural_network import MLPRegressor, MLPClassifier\n",
    "from sklearn.metrics import mean_squared_error\n",
    "from sklearn.preprocessing import MinMaxScaler\n",
    "import pickle as pkl\n",
    "from Levenshtein import distance as levenstein\n",
    "\n",
    "np.warnings.filterwarnings('ignore')\n",
    "\n",
    "%matplotlib inline"
   ]
  },
  {
   "cell_type": "code",
   "execution_count": 2,
   "metadata": {
    "collapsed": true
   },
   "outputs": [],
   "source": [
    "def convert(imgf, labelf, outf, n, size):\n",
    "    f = open(imgf, \"rb\")\n",
    "    o = open(outf, \"w\")\n",
    "    l = open(labelf, \"rb\")\n",
    "\n",
    "    f.read(16)\n",
    "    l.read(8)\n",
    "    images = []\n",
    "\n",
    "    for i in tqdm(range(n), desc=outf):\n",
    "        image = [ord(l.read(1))]\n",
    "        for j in range(size[0]*size[1]):\n",
    "            image.append(ord(f.read(1)))\n",
    "        images.append(image)\n",
    "\n",
    "    for image in images:\n",
    "        o.write(\",\".join(str(pix) for pix in image)+\"\\n\")\n",
    "    f.close()\n",
    "    o.close()\n",
    "    l.close()\n",
    "    \n",
    "def show_image(image, label=None, ax=plt):\n",
    "    ax.imshow(image, cmap='gray');\n",
    "    ax.title('Цифра:'+str('' if label is None else label))\n",
    "    ax.axis('off');\n",
    "    \n",
    "def show_image_data_frame(df, index, ax):\n",
    "    ax.imshow(get_image(df, index)[1], cmap='gray');\n",
    "    ax.title('Цифра:'+str(df.loc[index, 0]))\n",
    "    ax.axis('off');\n",
    "    \n",
    "def get_image(df, index):\n",
    "    return df.loc[index, 0], df.loc[index, 1:].values.reshape((28, 28)).astype(np.uint8)\n",
    "\n",
    "def get_codes(image, count_directs=8, width_angle=np.pi/2, strength_threshould=0):\n",
    "    sobel_x = cv2.Sobel(image,cv2.CV_32F,1,0,ksize=1)\n",
    "    sobel_y = cv2.Sobel(image,cv2.CV_32F,0,1,ksize=1)\n",
    "    \n",
    "    start_angle = -np.pi/2\n",
    "    \n",
    "    residual_angle = np.pi - width_angle\n",
    "    step_angle = residual_angle / (count_directs-1)\n",
    "    \n",
    "    gamma_down = np.arange(start_angle, start_angle+width_angle+step_angle, step_angle)\n",
    "    gamma_up = gamma_down+width_angle\n",
    "    \n",
    "    angle = np.arctan(sobel_y / sobel_x)\n",
    "    strength = np.sqrt(sobel_y** 2 + sobel_x ** 2)\n",
    "    \n",
    "    return np.array([\n",
    "        np.uint((gamma_down[i] <= angle) & (angle <= gamma_up[i]) & (strength >= strength_threshould))\n",
    "        for i in range(0, count_directs)\n",
    "    ])\n",
    "\n",
    "def get_codes_data_frame(image, count_directs=8, width_angle=np.pi/2, strength_threshould=0):\n",
    "    sobel_x = cv2.Sobel(image,cv2.CV_32F,1,0,ksize=1)\n",
    "    sobel_y = cv2.Sobel(image,cv2.CV_32F,0,1,ksize=1)\n",
    "    \n",
    "    start_angle = -np.pi/2\n",
    "    \n",
    "    residual_angle = np.pi - width_angle\n",
    "    step_angle = residual_angle / (count_directs-1)\n",
    "    \n",
    "    gamma_down = np.arange(start_angle, start_angle+width_angle+step_angle, step_angle)\n",
    "    gamma_up = gamma_down+width_angle\n",
    "    \n",
    "    angle = np.arctan(sobel_y / sobel_x)\n",
    "    strength = np.sqrt(sobel_y** 2 + sobel_x ** 2)\n",
    "    \n",
    "    return np.array([\n",
    "        np.uint((gamma_down[i] <= angle) & (angle <= gamma_up[i]) & (strength >= strength_threshould))\n",
    "        for i in range(0, count_directs)\n",
    "    ])\n",
    "\n",
    "def resize_row_data_frame(row, input_size=(32, 32), output_size=(28, 28)):\n",
    "    return cv2.resize(row.reshape(input_size).astype(np.uint8), output_size).ravel()\n",
    "\n",
    "def rotate_image(image, alpha=0, scale=1, size=(28, 28)):\n",
    "    rows, cols = image.shape\n",
    "    M = cv2.getRotationMatrix2D((cols/2, rows/2), alpha, scale)\n",
    "    return cv2.warpAffine(image, M, (cols, rows))\n",
    "    \n",
    "def rotate_row_data_frame(row, alpha=0, scale=1, size=(28, 28)):\n",
    "    label, image = row[0], row[1:].values.reshape((28, 28)).astype(np.uint8)\n",
    "    return np.hstack([[label], rotate_image(image, alpha, scale).ravel()])\n",
    "\n",
    "def rotate_image_data_frame(df, index, alpha=0, scale=1, size=(28, 28)):\n",
    "    label, image = get_image(df, index)\n",
    "    return label, rotate_image(image, alpha, scale) \n",
    "\n",
    "def get_context_image(context_number, image):\n",
    "    dx = context_number[1] * (-1)\n",
    "    dy = context_number[0] * (-1)\n",
    "    x_context_image = np.zeros(image.shape)\n",
    "    context_image = np.zeros(image.shape)\n",
    "    \n",
    "    # Формируем изображение в новом контексте\n",
    "    if dx < 0:\n",
    "        x_context_image[:, :dx] = image[:, :dx]\n",
    "    elif dx == 0:\n",
    "        x_context_image = image\n",
    "    else:\n",
    "        x_context_image[:, dx:] = image[:, dx:]\n",
    "    if dy < 0:\n",
    "        context_image[:dy, :] = x_context_image[:dy, :]\n",
    "    elif dy == 0:\n",
    "        context_image = x_context_image\n",
    "    else:\n",
    "        context_image[dy:, :] = x_context_image[dy:, :]\n",
    "        \n",
    "    return np.uint8(context_image)"
   ]
  },
  {
   "cell_type": "markdown",
   "metadata": {},
   "source": [
    "Зададим конфиг для изображений"
   ]
  },
  {
   "cell_type": "code",
   "execution_count": 3,
   "metadata": {
    "collapsed": true
   },
   "outputs": [],
   "source": [
    "path_mnist = 'data/MNIST/'\n",
    "conf_test_mnist = {\n",
    "    'imgf': path_mnist+'t10k-images.idx3-ubyte',\n",
    "    'labelf': path_mnist+'t10k-labels.idx1-ubyte',\n",
    "    'n': 10000,\n",
    "    'outf': path_mnist+'mnist_test.csv',\n",
    "    'size': (28, 28)\n",
    "}\n",
    "conf_train_mnist = {\n",
    "    'imgf': path_mnist+'train-images.idx3-ubyte',\n",
    "    'labelf': path_mnist+'train-labels.idx1-ubyte',\n",
    "    'n': 60000,\n",
    "    'outf': path_mnist+'mnist_train.csv',\n",
    "    'size': (28, 28)\n",
    "}"
   ]
  },
  {
   "cell_type": "markdown",
   "metadata": {},
   "source": [
    "Загрузим изображения и отобразим внутренне представление"
   ]
  },
  {
   "cell_type": "code",
   "execution_count": 4,
   "metadata": {},
   "outputs": [
    {
     "data": {
      "text/html": [
       "<div>\n",
       "<style>\n",
       "    .dataframe thead tr:only-child th {\n",
       "        text-align: right;\n",
       "    }\n",
       "\n",
       "    .dataframe thead th {\n",
       "        text-align: left;\n",
       "    }\n",
       "\n",
       "    .dataframe tbody tr th {\n",
       "        vertical-align: top;\n",
       "    }\n",
       "</style>\n",
       "<table border=\"1\" class=\"dataframe\">\n",
       "  <thead>\n",
       "    <tr style=\"text-align: right;\">\n",
       "      <th></th>\n",
       "      <th>0</th>\n",
       "      <th>1</th>\n",
       "      <th>2</th>\n",
       "      <th>3</th>\n",
       "      <th>4</th>\n",
       "      <th>5</th>\n",
       "      <th>6</th>\n",
       "      <th>7</th>\n",
       "      <th>8</th>\n",
       "      <th>9</th>\n",
       "      <th>...</th>\n",
       "      <th>775</th>\n",
       "      <th>776</th>\n",
       "      <th>777</th>\n",
       "      <th>778</th>\n",
       "      <th>779</th>\n",
       "      <th>780</th>\n",
       "      <th>781</th>\n",
       "      <th>782</th>\n",
       "      <th>783</th>\n",
       "      <th>784</th>\n",
       "    </tr>\n",
       "  </thead>\n",
       "  <tbody>\n",
       "    <tr>\n",
       "      <th>0</th>\n",
       "      <td>5</td>\n",
       "      <td>0</td>\n",
       "      <td>0</td>\n",
       "      <td>0</td>\n",
       "      <td>0</td>\n",
       "      <td>0</td>\n",
       "      <td>0</td>\n",
       "      <td>0</td>\n",
       "      <td>0</td>\n",
       "      <td>0</td>\n",
       "      <td>...</td>\n",
       "      <td>0</td>\n",
       "      <td>0</td>\n",
       "      <td>0</td>\n",
       "      <td>0</td>\n",
       "      <td>0</td>\n",
       "      <td>0</td>\n",
       "      <td>0</td>\n",
       "      <td>0</td>\n",
       "      <td>0</td>\n",
       "      <td>0</td>\n",
       "    </tr>\n",
       "    <tr>\n",
       "      <th>1</th>\n",
       "      <td>0</td>\n",
       "      <td>0</td>\n",
       "      <td>0</td>\n",
       "      <td>0</td>\n",
       "      <td>0</td>\n",
       "      <td>0</td>\n",
       "      <td>0</td>\n",
       "      <td>0</td>\n",
       "      <td>0</td>\n",
       "      <td>0</td>\n",
       "      <td>...</td>\n",
       "      <td>0</td>\n",
       "      <td>0</td>\n",
       "      <td>0</td>\n",
       "      <td>0</td>\n",
       "      <td>0</td>\n",
       "      <td>0</td>\n",
       "      <td>0</td>\n",
       "      <td>0</td>\n",
       "      <td>0</td>\n",
       "      <td>0</td>\n",
       "    </tr>\n",
       "    <tr>\n",
       "      <th>2</th>\n",
       "      <td>4</td>\n",
       "      <td>0</td>\n",
       "      <td>0</td>\n",
       "      <td>0</td>\n",
       "      <td>0</td>\n",
       "      <td>0</td>\n",
       "      <td>0</td>\n",
       "      <td>0</td>\n",
       "      <td>0</td>\n",
       "      <td>0</td>\n",
       "      <td>...</td>\n",
       "      <td>0</td>\n",
       "      <td>0</td>\n",
       "      <td>0</td>\n",
       "      <td>0</td>\n",
       "      <td>0</td>\n",
       "      <td>0</td>\n",
       "      <td>0</td>\n",
       "      <td>0</td>\n",
       "      <td>0</td>\n",
       "      <td>0</td>\n",
       "    </tr>\n",
       "    <tr>\n",
       "      <th>3</th>\n",
       "      <td>1</td>\n",
       "      <td>0</td>\n",
       "      <td>0</td>\n",
       "      <td>0</td>\n",
       "      <td>0</td>\n",
       "      <td>0</td>\n",
       "      <td>0</td>\n",
       "      <td>0</td>\n",
       "      <td>0</td>\n",
       "      <td>0</td>\n",
       "      <td>...</td>\n",
       "      <td>0</td>\n",
       "      <td>0</td>\n",
       "      <td>0</td>\n",
       "      <td>0</td>\n",
       "      <td>0</td>\n",
       "      <td>0</td>\n",
       "      <td>0</td>\n",
       "      <td>0</td>\n",
       "      <td>0</td>\n",
       "      <td>0</td>\n",
       "    </tr>\n",
       "    <tr>\n",
       "      <th>4</th>\n",
       "      <td>9</td>\n",
       "      <td>0</td>\n",
       "      <td>0</td>\n",
       "      <td>0</td>\n",
       "      <td>0</td>\n",
       "      <td>0</td>\n",
       "      <td>0</td>\n",
       "      <td>0</td>\n",
       "      <td>0</td>\n",
       "      <td>0</td>\n",
       "      <td>...</td>\n",
       "      <td>0</td>\n",
       "      <td>0</td>\n",
       "      <td>0</td>\n",
       "      <td>0</td>\n",
       "      <td>0</td>\n",
       "      <td>0</td>\n",
       "      <td>0</td>\n",
       "      <td>0</td>\n",
       "      <td>0</td>\n",
       "      <td>0</td>\n",
       "    </tr>\n",
       "  </tbody>\n",
       "</table>\n",
       "<p>5 rows × 785 columns</p>\n",
       "</div>"
      ],
      "text/plain": [
       "   0    1    2    3    4    5    6    7    8    9   ...   775  776  777  778  \\\n",
       "0    5    0    0    0    0    0    0    0    0    0 ...     0    0    0    0   \n",
       "1    0    0    0    0    0    0    0    0    0    0 ...     0    0    0    0   \n",
       "2    4    0    0    0    0    0    0    0    0    0 ...     0    0    0    0   \n",
       "3    1    0    0    0    0    0    0    0    0    0 ...     0    0    0    0   \n",
       "4    9    0    0    0    0    0    0    0    0    0 ...     0    0    0    0   \n",
       "\n",
       "   779  780  781  782  783  784  \n",
       "0    0    0    0    0    0    0  \n",
       "1    0    0    0    0    0    0  \n",
       "2    0    0    0    0    0    0  \n",
       "3    0    0    0    0    0    0  \n",
       "4    0    0    0    0    0    0  \n",
       "\n",
       "[5 rows x 785 columns]"
      ]
     },
     "execution_count": 4,
     "metadata": {},
     "output_type": "execute_result"
    }
   ],
   "source": [
    "df = pd.read_csv(conf_train_mnist['outf'], header=None)\n",
    "df.head()"
   ]
  },
  {
   "cell_type": "markdown",
   "metadata": {},
   "source": [
    "Визуализируем несколько цифр"
   ]
  },
  {
   "cell_type": "code",
   "execution_count": 5,
   "metadata": {},
   "outputs": [
    {
     "data": {
      "image/png": "[encoded data removed]",
      "text/plain": [
       "<matplotlib.figure.Figure at 0x7fed8cc93e48>"
      ]
     },
     "metadata": {},
     "output_type": "display_data"
    }
   ],
   "source": [
    "show_image_data_frame(df, 0, plt);"
   ]
  },
  {
   "cell_type": "code",
   "execution_count": 6,
   "metadata": {},
   "outputs": [
    {
     "data": {
      "image/png": "[encoded data removed]",
      "text/plain": [
       "<matplotlib.figure.Figure at 0x7fed8a44eb70>"
      ]
     },
     "metadata": {},
     "output_type": "display_data"
    }
   ],
   "source": [
    "show_image_data_frame(df, 1, plt);"
   ]
  },
  {
   "cell_type": "code",
   "execution_count": 7,
   "metadata": {},
   "outputs": [
    {
     "data": {
      "image/png": "[encoded data removed]",
      "text/plain": [
       "<matplotlib.figure.Figure at 0x7fed8ccc4710>"
      ]
     },
     "metadata": {},
     "output_type": "display_data"
    }
   ],
   "source": [
    "show_image_data_frame(df, 2, plt);"
   ]
  },
  {
   "cell_type": "markdown",
   "metadata": {},
   "source": [
    "Наложем фильтр Собеля"
   ]
  },
  {
   "cell_type": "code",
   "execution_count": 8,
   "metadata": {},
   "outputs": [
    {
     "data": {
      "image/png": "[encoded data removed]",
      "text/plain": [
       "<matplotlib.figure.Figure at 0x7fed8bcfe6d8>"
      ]
     },
     "metadata": {},
     "output_type": "display_data"
    }
   ],
   "source": [
    "label, image = get_image(df, 2)\n",
    "sobel_x = cv2.Sobel(image,cv2.CV_32F,1,0,ksize=1)\n",
    "sobel_y = cv2.Sobel(image,cv2.CV_32F,0,1,ksize=1)\n",
    "_, (ax1, ax2, ax3) = plt.subplots(1, 3)\n",
    "ax1.imshow(sobel_x, cmap='gray')\n",
    "ax1.set_title('Sobel X')\n",
    "ax1.axis('off')\n",
    "ax2.imshow(sobel_y, cmap='gray')\n",
    "ax2.set_title('Sobel Y')\n",
    "ax2.axis('off')\n",
    "ax3.imshow(np.uint8(np.divide(sobel_y+0.001, sobel_x+0.001)))\n",
    "ax3.set_title('Sobel tan')\n",
    "ax3.axis('off');"
   ]
  },
  {
   "cell_type": "markdown",
   "metadata": {},
   "source": [
    "Посмотрим на распределение значений фильтра"
   ]
  },
  {
   "cell_type": "code",
   "execution_count": 9,
   "metadata": {},
   "outputs": [
    {
     "data": {
      "image/png": "[encoded data removed]",
      "text/plain": [
       "<matplotlib.figure.Figure at 0x7fed8a45a4a8>"
      ]
     },
     "metadata": {},
     "output_type": "display_data"
    }
   ],
   "source": [
    "sns.lmplot(x='sobel_x', y='sobel_y', data=pd.DataFrame(np.transpose(np.array([sobel_x.flatten(), sobel_y.flatten()])), columns=['sobel_x', 'sobel_y']));\n",
    "plt.title('Sobel\\'s operator');"
   ]
  },
  {
   "cell_type": "markdown",
   "metadata": {},
   "source": [
    "### Выбор контекста-победителя. Пример\n",
    "\n",
    "Зададим начальные значения. Входное изображение; центр области, из которой требуется вырезать подизображение; размер изображения, которое будет преобразовано к другому контексту; номер контекста"
   ]
  },
  {
   "cell_type": "code",
   "execution_count": 10,
   "metadata": {
    "collapsed": true
   },
   "outputs": [],
   "source": [
    "image_number = 3\n",
    "x0 = 12\n",
    "y0 = 12\n",
    "window_size = [4, 4]\n",
    "context_number = [2, 1]"
   ]
  },
  {
   "cell_type": "markdown",
   "metadata": {},
   "source": [
    "Преобразование изображения к новому контексту"
   ]
  },
  {
   "cell_type": "code",
   "execution_count": 11,
   "metadata": {
    "collapsed": true
   },
   "outputs": [],
   "source": [
    "label, image = get_image(df, image_number)\n",
    "input_image = image[y0:y0+window_size[0], x0:x0+window_size[1]]\n",
    "context_image = get_context_image(context_number=context_number, image=image[y0:y0+window_size[0], x0:x0+window_size[1]])"
   ]
  },
  {
   "cell_type": "markdown",
   "metadata": {},
   "source": [
    "Входное изображение"
   ]
  },
  {
   "cell_type": "code",
   "execution_count": 12,
   "metadata": {},
   "outputs": [
    {
     "data": {
      "image/png": "[encoded data removed]",
      "text/plain": [
       "<matplotlib.figure.Figure at 0x7fed8bcdb4a8>"
      ]
     },
     "metadata": {},
     "output_type": "display_data"
    }
   ],
   "source": [
    "show_image(input_image, label, plt)"
   ]
  },
  {
   "cell_type": "markdown",
   "metadata": {},
   "source": [
    "Изображение в новом контексте"
   ]
  },
  {
   "cell_type": "code",
   "execution_count": 14,
   "metadata": {},
   "outputs": [
    {
     "data": {
      "image/png": "[encoded data removed]",
      "text/plain": [
       "<matplotlib.figure.Figure at 0x7fed71b17f98>"
      ]
     },
     "metadata": {},
     "output_type": "display_data"
    }
   ],
   "source": [
    "show_image(context_image, label, plt)"
   ]
  },
  {
   "cell_type": "markdown",
   "metadata": {},
   "source": [
    "### Выбор контекста-победителя. Построение контекста-победителя\n",
    "\n",
    "Пусть изображение из датасета под $№\\ 4$, находящееся в точке $(12, 12)$ правым углом будет памятью. Будем брать все подизображения исходного изображения и получать его коды во всех контекстах. Для каждого такого подизображения будем находить контекст-победитель на основе сравнения кода в одном из контекстов с кодом из памяти.\n",
    "\n",
    "Зададим начальные параметры:"
   ]
  },
  {
   "cell_type": "code",
   "execution_count": 15,
   "metadata": {
    "collapsed": true
   },
   "outputs": [],
   "source": [
    "image_number = 2\n",
    "x0 = 12\n",
    "y0 = 12\n",
    "window_size = [4, 4]\n",
    "label, image = get_image(df, image_number)"
   ]
  },
  {
   "cell_type": "markdown",
   "metadata": {},
   "source": [
    "Создадим память"
   ]
  },
  {
   "cell_type": "code",
   "execution_count": 17,
   "metadata": {
    "collapsed": true
   },
   "outputs": [],
   "source": [
    "memory_image = image[y0:y0+window_size[0], x0:x0+window_size[1]]\n",
    "memory_code = get_codes(memory_image)"
   ]
  },
  {
   "cell_type": "markdown",
   "metadata": {},
   "source": [
    "Выберем подизображение, которое не пересекается с изображением из памяти"
   ]
  },
  {
   "cell_type": "code",
   "execution_count": 19,
   "metadata": {},
   "outputs": [
    {
     "data": {
      "image/png": "[encoded data removed]",
      "text/plain": [
       "<matplotlib.figure.Figure at 0x7fed71b172b0>"
      ]
     },
     "metadata": {},
     "output_type": "display_data"
    }
   ],
   "source": [
    "x_other = 17\n",
    "y_other = 15\n",
    "other_sub_image = image[y_other:y_other+window_size[0], x_other:x_other+window_size[1]]\n",
    "show_image(other_sub_image)"
   ]
  },
  {
   "cell_type": "markdown",
   "metadata": {},
   "source": [
    "Приведём его ко всем возможным контекстам и посчитаем скалярное произведение для кодов"
   ]
  },
  {
   "cell_type": "code",
   "execution_count": 20,
   "metadata": {
    "collapsed": true
   },
   "outputs": [],
   "source": [
    "context_codes = []\n",
    "map_of_distance = []\n",
    "for context_y in np.arange(-window_size[0]+1, window_size[1], 1):\n",
    "    context_codes.append([])\n",
    "    map_of_distance.append([])\n",
    "    for context_x in np.arange(-window_size[1]+1, window_size[1], 1):\n",
    "        context_number = [context_y, context_x]\n",
    "        context_image = get_context_image(context_number=context_number, image=other_sub_image)\n",
    "        context_code = get_codes(context_image)\n",
    "        context_codes[-1].append(context_code)\n",
    "        map_of_distance[-1].append(np.dot(context_code.flatten(), memory_code.flatten()))"
   ]
  },
  {
   "cell_type": "markdown",
   "metadata": {},
   "source": [
    "Выведем матрицу значений со скалярными произведениями от памяти до всех возможных контекстов и значение скалярного произведения до контекста-победителя"
   ]
  },
  {
   "cell_type": "code",
   "execution_count": 21,
   "metadata": {},
   "outputs": [
    {
     "name": "stdout",
     "output_type": "stream",
     "text": [
      "Значение контекста-победителя: 26\n"
     ]
    },
    {
     "data": {
      "text/html": [
       "<div>\n",
       "<style>\n",
       "    .dataframe thead tr:only-child th {\n",
       "        text-align: right;\n",
       "    }\n",
       "\n",
       "    .dataframe thead th {\n",
       "        text-align: left;\n",
       "    }\n",
       "\n",
       "    .dataframe tbody tr th {\n",
       "        vertical-align: top;\n",
       "    }\n",
       "</style>\n",
       "<table border=\"1\" class=\"dataframe\">\n",
       "  <thead>\n",
       "    <tr style=\"text-align: right;\">\n",
       "      <th></th>\n",
       "      <th>-3</th>\n",
       "      <th>-2</th>\n",
       "      <th>-1</th>\n",
       "      <th>0</th>\n",
       "      <th>1</th>\n",
       "      <th>2</th>\n",
       "      <th>3</th>\n",
       "    </tr>\n",
       "  </thead>\n",
       "  <tbody>\n",
       "    <tr>\n",
       "      <th>-3</th>\n",
       "      <td>0</td>\n",
       "      <td>9</td>\n",
       "      <td>18</td>\n",
       "      <td>19</td>\n",
       "      <td>19</td>\n",
       "      <td>18</td>\n",
       "      <td>9</td>\n",
       "    </tr>\n",
       "    <tr>\n",
       "      <th>-2</th>\n",
       "      <td>0</td>\n",
       "      <td>13</td>\n",
       "      <td>23</td>\n",
       "      <td>22</td>\n",
       "      <td>22</td>\n",
       "      <td>22</td>\n",
       "      <td>13</td>\n",
       "    </tr>\n",
       "    <tr>\n",
       "      <th>-1</th>\n",
       "      <td>0</td>\n",
       "      <td>13</td>\n",
       "      <td>23</td>\n",
       "      <td>25</td>\n",
       "      <td>25</td>\n",
       "      <td>25</td>\n",
       "      <td>14</td>\n",
       "    </tr>\n",
       "    <tr>\n",
       "      <th>0</th>\n",
       "      <td>0</td>\n",
       "      <td>12</td>\n",
       "      <td>24</td>\n",
       "      <td>26</td>\n",
       "      <td>26</td>\n",
       "      <td>25</td>\n",
       "      <td>14</td>\n",
       "    </tr>\n",
       "    <tr>\n",
       "      <th>1</th>\n",
       "      <td>0</td>\n",
       "      <td>4</td>\n",
       "      <td>5</td>\n",
       "      <td>7</td>\n",
       "      <td>7</td>\n",
       "      <td>8</td>\n",
       "      <td>5</td>\n",
       "    </tr>\n",
       "    <tr>\n",
       "      <th>2</th>\n",
       "      <td>0</td>\n",
       "      <td>1</td>\n",
       "      <td>1</td>\n",
       "      <td>1</td>\n",
       "      <td>1</td>\n",
       "      <td>2</td>\n",
       "      <td>1</td>\n",
       "    </tr>\n",
       "    <tr>\n",
       "      <th>3</th>\n",
       "      <td>0</td>\n",
       "      <td>0</td>\n",
       "      <td>0</td>\n",
       "      <td>0</td>\n",
       "      <td>0</td>\n",
       "      <td>0</td>\n",
       "      <td>0</td>\n",
       "    </tr>\n",
       "  </tbody>\n",
       "</table>\n",
       "</div>"
      ],
      "text/plain": [
       "    -3  -2  -1   0   1   2   3\n",
       "-3   0   9  18  19  19  18   9\n",
       "-2   0  13  23  22  22  22  13\n",
       "-1   0  13  23  25  25  25  14\n",
       " 0   0  12  24  26  26  25  14\n",
       " 1   0   4   5   7   7   8   5\n",
       " 2   0   1   1   1   1   2   1\n",
       " 3   0   0   0   0   0   0   0"
      ]
     },
     "execution_count": 21,
     "metadata": {},
     "output_type": "execute_result"
    },
    {
     "data": {
      "image/png": "[encoded data removed]",
      "text/plain": [
       "<matplotlib.figure.Figure at 0x7fed71a313c8>"
      ]
     },
     "metadata": {},
     "output_type": "display_data"
    }
   ],
   "source": [
    "map_of_distance = pd.DataFrame(map_of_distance)\n",
    "map_of_distance = map_of_distance.set_index(np.arange(-window_size[0]+1, window_size[1], 1))\n",
    "map_of_distance.columns = np.arange(-window_size[0]+1, window_size[1], 1)\n",
    "sns.heatmap(map_of_distance)\n",
    "plt.title('Матрица с контекстами')\n",
    "print('Значение контекста-победителя:', np.max(map_of_distance.as_matrix().flatten()))\n",
    "map_of_distance"
   ]
  },
  {
   "cell_type": "markdown",
   "metadata": {},
   "source": [
    "Выведем центрированное изображение"
   ]
  },
  {
   "cell_type": "code",
   "execution_count": 22,
   "metadata": {},
   "outputs": [
    {
     "data": {
      "image/png": "[encoded data removed]",
      "text/plain": [
       "<matplotlib.figure.Figure at 0x7fed71a5a278>"
      ]
     },
     "metadata": {},
     "output_type": "display_data"
    }
   ],
   "source": [
    "show_image(other_sub_image, label=label)"
   ]
  },
  {
   "cell_type": "markdown",
   "metadata": {},
   "source": [
    "Выведем все изображения победители"
   ]
  },
  {
   "cell_type": "code",
   "execution_count": 23,
   "metadata": {},
   "outputs": [
    {
     "data": {
      "image/png": "[encoded data removed]",
      "text/plain": [
       "<matplotlib.figure.Figure at 0x7fed719666d8>"
      ]
     },
     "metadata": {},
     "output_type": "display_data"
    },
    {
     "data": {
      "image/png": "[encoded data removed]",
      "text/plain": [
       "<matplotlib.figure.Figure at 0x7fed7195c748>"
      ]
     },
     "metadata": {},
     "output_type": "display_data"
    }
   ],
   "source": [
    "map_of_distance_matrix = map_of_distance.as_matrix()\n",
    "context_y, context_x = np.where(map_of_distance_matrix == np.max(map_of_distance_matrix.flatten()))\n",
    "context_y, context_x = context_y - (window_size[0] - 1), context_x - (window_size[1] - 1)\n",
    "for context_num in range(len(context_x)):\n",
    "    plt.figure(figsize=(5,5*len(context_x)))\n",
    "    plt.subplot(len(context_x), 1, context_num+1);\n",
    "    show_image(get_context_image(context_number=[context_y[context_num], context_x[context_num]], image=other_sub_image),\n",
    "              label=label)"
   ]
  }
 ],
 "metadata": {
  "kernelspec": {
   "display_name": "Python 3",
   "language": "python",
   "name": "python3"
  },
  "language_info": {
   "codemirror_mode": {
    "name": "ipython",
    "version": 3
   },
   "file_extension": ".py",
   "mimetype": "text/x-python",
   "name": "python",
   "nbconvert_exporter": "python",
   "pygments_lexer": "ipython3",
   "version": "3.5.2"
  }
 },
 "nbformat": 4,
 "nbformat_minor": 2
}
